{
 "cells": [
  {
   "cell_type": "markdown",
   "metadata": {},
   "source": [
    "# Sentiment Classification using Naïve Bayes classification.\n",
    "\n",
    "In this notebook, I'll demonstrate the tweet classifier I have created, without using any of the known machine learning frameworks out there. This example uses Naive Bayes classification along with Laplace smoothing, which is one of the most widely used techniques for text classification. Of course, there are better alternatives out there. In fact, the way I have done things here aren't exactly \"industry-standard\". This is merely an exercise to ensure that I have, infact, properly understood the concepts that serve as the foundation of ML. In my naivety (no pun intended), I decided to use SQL database to store the words and the number of their positive and negative occurances. Which is why when I decided to train this behemoth of a corpus (65,000 tweets), my timid machine with a meager Core i3 U processor and a humble 4GB of RAM started to give up, after two hours of training. Initially, updating the dictionary was a fast process, but as the size of the database grew, it started to take more and more time to find if a word was already present in the database, and performance started to take major hits. Finally, I decided to break the corpus into chunks and trained the database with one of the chunks. So while it may not understand complete sentences (or whatever grammatical object tweets are), it does a so-so job of identifing the sentiments of words and two word phrases."
   ]
  },
  {
   "cell_type": "code",
   "execution_count": 28,
   "metadata": {},
   "outputs": [],
   "source": [
    "import main"
   ]
  },
  {
   "cell_type": "code",
   "execution_count": 29,
   "metadata": {},
   "outputs": [
    {
     "name": "stdout",
     "output_type": "stream",
     "text": [
      "58.13733580196535% chance that the tweet has a positive sentiment.\n",
      "41.86266419803465% chance that the tweet has a negative sentiment.\n"
     ]
    }
   ],
   "source": [
    "main.classify(\"good\") # Understands that good is a positive word"
   ]
  },
  {
   "cell_type": "code",
   "execution_count": 30,
   "metadata": {},
   "outputs": [
    {
     "name": "stdout",
     "output_type": "stream",
     "text": [
      "57.514650500149386% chance that the tweet has a positive sentiment.\n",
      "42.485349499850614% chance that the tweet has a negative sentiment.\n"
     ]
    }
   ],
   "source": [
    "main.classify(\"Pizza\") # I'm glad that Pizza doesn't have a negative sentiment to it."
   ]
  },
  {
   "cell_type": "code",
   "execution_count": 31,
   "metadata": {},
   "outputs": [
    {
     "name": "stdout",
     "output_type": "stream",
     "text": [
      "50.006817128382544% chance that the tweet has a positive sentiment.\n",
      "49.993182871617456% chance that the tweet has a negative sentiment.\n"
     ]
    }
   ],
   "source": [
    "main.classify(\"sun\") # While a normal person may associate \"sun\" with a positive feeling, this database is\n",
    "                     # unclear about it; which demonstrates my point."
   ]
  },
  {
   "cell_type": "code",
   "execution_count": 32,
   "metadata": {},
   "outputs": [
    {
     "name": "stdout",
     "output_type": "stream",
     "text": [
      "16.87882539366454% chance that the tweet has a positive sentiment.\n",
      "83.12117460633547% chance that the tweet has a negative sentiment.\n"
     ]
    }
   ],
   "source": [
    "main.classify(\"die\") # \"die\" has a negative sentiment to it."
   ]
  },
  {
   "cell_type": "code",
   "execution_count": 33,
   "metadata": {},
   "outputs": [
    {
     "name": "stdout",
     "output_type": "stream",
     "text": [
      "1.8718936690194883% chance that the tweet has a positive sentiment.\n",
      "98.12810633098051% chance that the tweet has a negative sentiment.\n"
     ]
    }
   ],
   "source": [
    "main.classify(\"die sick\") # since both \"die\" and \"sick\" are negitive words, the classifier deems the\n",
    "                          # tweet as overwhelmingly negitive."
   ]
  },
  {
   "cell_type": "code",
   "execution_count": null,
   "metadata": {},
   "outputs": [],
   "source": []
  }
 ],
 "metadata": {
  "kernelspec": {
   "display_name": "Python 3",
   "language": "python",
   "name": "python3"
  },
  "language_info": {
   "codemirror_mode": {
    "name": "ipython",
    "version": 3
   },
   "file_extension": ".py",
   "mimetype": "text/x-python",
   "name": "python",
   "nbconvert_exporter": "python",
   "pygments_lexer": "ipython3",
   "version": "3.6.5"
  }
 },
 "nbformat": 4,
 "nbformat_minor": 1
}
